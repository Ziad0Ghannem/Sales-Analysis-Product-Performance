{
 "cells": [
  {
   "cell_type": "markdown",
   "id": "448f505b-13ed-4fcd-8663-cbbf12755d7c",
   "metadata": {},
   "source": [
    "### Import Libraries"
   ]
  },
  {
   "cell_type": "code",
   "execution_count": 2,
   "id": "f5e21240-0eea-42c5-8241-96e1161eca40",
   "metadata": {},
   "outputs": [],
   "source": [
    "import pandas as pd\n",
    "import numpy as np\n",
    "import matplotlib.pyplot as plt\n",
    "import seaborn as sns"
   ]
  },
  {
   "cell_type": "markdown",
   "id": "b53f2faf-37a3-4f7a-9c1c-c8120e023cb0",
   "metadata": {},
   "source": [
    "### Import Data"
   ]
  },
  {
   "cell_type": "code",
   "execution_count": 4,
   "id": "1de1a145-8101-411a-83ca-4edd4c68f231",
   "metadata": {},
   "outputs": [],
   "source": [
    "df = pd.read_csv('total_sales.csv')"
   ]
  },
  {
   "cell_type": "code",
   "execution_count": 5,
   "id": "9b37b5e9-2e93-44fa-aca2-47a806520374",
   "metadata": {},
   "outputs": [
    {
     "data": {
      "text/html": [
       "<div>\n",
       "<style scoped>\n",
       "    .dataframe tbody tr th:only-of-type {\n",
       "        vertical-align: middle;\n",
       "    }\n",
       "\n",
       "    .dataframe tbody tr th {\n",
       "        vertical-align: top;\n",
       "    }\n",
       "\n",
       "    .dataframe thead th {\n",
       "        text-align: right;\n",
       "    }\n",
       "</style>\n",
       "<table border=\"1\" class=\"dataframe\">\n",
       "  <thead>\n",
       "    <tr style=\"text-align: right;\">\n",
       "      <th></th>\n",
       "      <th>Unnamed: 0</th>\n",
       "      <th>ITM_CD</th>\n",
       "      <th>itm_nma</th>\n",
       "      <th>PRC</th>\n",
       "      <th>QTY</th>\n",
       "      <th>TR_NO</th>\n",
       "      <th>USR</th>\n",
       "      <th>RMRK</th>\n",
       "      <th>SUM_CD</th>\n",
       "      <th>Crtd</th>\n",
       "      <th>PRC1</th>\n",
       "      <th>LN_NO</th>\n",
       "      <th>total_price</th>\n",
       "      <th>Date</th>\n",
       "      <th>Time</th>\n",
       "    </tr>\n",
       "  </thead>\n",
       "  <tbody>\n",
       "    <tr>\n",
       "      <th>0</th>\n",
       "      <td>0</td>\n",
       "      <td>6001</td>\n",
       "      <td>حواوشى لحم عالفحم</td>\n",
       "      <td>25.0</td>\n",
       "      <td>2.0</td>\n",
       "      <td>2</td>\n",
       "      <td>احمد</td>\n",
       "      <td>NaN</td>\n",
       "      <td>1.0</td>\n",
       "      <td>2023-11-18 16:30:22</td>\n",
       "      <td>25.0</td>\n",
       "      <td>1</td>\n",
       "      <td>50.0</td>\n",
       "      <td>2023-11-18</td>\n",
       "      <td>16:30:22</td>\n",
       "    </tr>\n",
       "    <tr>\n",
       "      <th>1</th>\n",
       "      <td>1</td>\n",
       "      <td>6002</td>\n",
       "      <td>حواوشى سجق عالفحم</td>\n",
       "      <td>25.0</td>\n",
       "      <td>2.0</td>\n",
       "      <td>2</td>\n",
       "      <td>احمد</td>\n",
       "      <td>NaN</td>\n",
       "      <td>1.0</td>\n",
       "      <td>2023-11-18 16:38:45</td>\n",
       "      <td>25.0</td>\n",
       "      <td>2</td>\n",
       "      <td>50.0</td>\n",
       "      <td>2023-11-18</td>\n",
       "      <td>16:38:45</td>\n",
       "    </tr>\n",
       "    <tr>\n",
       "      <th>2</th>\n",
       "      <td>2</td>\n",
       "      <td>2001</td>\n",
       "      <td>سندوتش شيش طاووق بلدى</td>\n",
       "      <td>25.0</td>\n",
       "      <td>1.0</td>\n",
       "      <td>3</td>\n",
       "      <td>احمد</td>\n",
       "      <td>NaN</td>\n",
       "      <td>1.0</td>\n",
       "      <td>2023-11-18 17:00:40</td>\n",
       "      <td>25.0</td>\n",
       "      <td>1</td>\n",
       "      <td>25.0</td>\n",
       "      <td>2023-11-18</td>\n",
       "      <td>17:00:40</td>\n",
       "    </tr>\n",
       "    <tr>\n",
       "      <th>3</th>\n",
       "      <td>3</td>\n",
       "      <td>1002</td>\n",
       "      <td>سندوتش كفته بلدى كبير</td>\n",
       "      <td>20.0</td>\n",
       "      <td>1.0</td>\n",
       "      <td>3</td>\n",
       "      <td>احمد</td>\n",
       "      <td>NaN</td>\n",
       "      <td>1.0</td>\n",
       "      <td>2023-11-18 17:00:48</td>\n",
       "      <td>20.0</td>\n",
       "      <td>2</td>\n",
       "      <td>20.0</td>\n",
       "      <td>2023-11-18</td>\n",
       "      <td>17:00:48</td>\n",
       "    </tr>\n",
       "    <tr>\n",
       "      <th>4</th>\n",
       "      <td>4</td>\n",
       "      <td>6003</td>\n",
       "      <td>حواوشى ميكس عالفحم</td>\n",
       "      <td>30.0</td>\n",
       "      <td>1.0</td>\n",
       "      <td>3</td>\n",
       "      <td>احمد</td>\n",
       "      <td>NaN</td>\n",
       "      <td>1.0</td>\n",
       "      <td>2023-11-18 17:00:56</td>\n",
       "      <td>30.0</td>\n",
       "      <td>3</td>\n",
       "      <td>30.0</td>\n",
       "      <td>2023-11-18</td>\n",
       "      <td>17:00:56</td>\n",
       "    </tr>\n",
       "  </tbody>\n",
       "</table>\n",
       "</div>"
      ],
      "text/plain": [
       "   Unnamed: 0  ITM_CD                itm_nma   PRC  QTY  TR_NO   USR RMRK  \\\n",
       "0           0    6001      حواوشى لحم عالفحم  25.0  2.0      2  احمد  NaN   \n",
       "1           1    6002      حواوشى سجق عالفحم  25.0  2.0      2  احمد  NaN   \n",
       "2           2    2001  سندوتش شيش طاووق بلدى  25.0  1.0      3  احمد  NaN   \n",
       "3           3    1002  سندوتش كفته بلدى كبير  20.0  1.0      3  احمد  NaN   \n",
       "4           4    6003     حواوشى ميكس عالفحم  30.0  1.0      3  احمد  NaN   \n",
       "\n",
       "   SUM_CD                 Crtd  PRC1  LN_NO  total_price        Date      Time  \n",
       "0     1.0  2023-11-18 16:30:22  25.0      1         50.0  2023-11-18  16:30:22  \n",
       "1     1.0  2023-11-18 16:38:45  25.0      2         50.0  2023-11-18  16:38:45  \n",
       "2     1.0  2023-11-18 17:00:40  25.0      1         25.0  2023-11-18  17:00:40  \n",
       "3     1.0  2023-11-18 17:00:48  20.0      2         20.0  2023-11-18  17:00:48  \n",
       "4     1.0  2023-11-18 17:00:56  30.0      3         30.0  2023-11-18  17:00:56  "
      ]
     },
     "execution_count": 5,
     "metadata": {},
     "output_type": "execute_result"
    }
   ],
   "source": [
    "df.head()"
   ]
  },
  {
   "cell_type": "code",
   "execution_count": 6,
   "id": "92c2e3a7-cc9d-4e8a-a7f5-fb106aee8080",
   "metadata": {},
   "outputs": [],
   "source": [
    "# Drop Unnecessary Columns\n",
    "df.drop(columns=['Unnamed: 0','RMRK'],inplace=True)"
   ]
  },
  {
   "cell_type": "markdown",
   "id": "8b9e848c-9075-4462-83aa-a648e5b66636",
   "metadata": {},
   "source": [
    "### Check If Null"
   ]
  },
  {
   "cell_type": "code",
   "execution_count": 8,
   "id": "8866bb16-28da-4a86-a636-dfd65b654cbe",
   "metadata": {},
   "outputs": [
    {
     "data": {
      "text/plain": [
       "ITM_CD         0\n",
       "itm_nma        0\n",
       "PRC            0\n",
       "QTY            0\n",
       "TR_NO          0\n",
       "USR            0\n",
       "SUM_CD         3\n",
       "Crtd           0\n",
       "PRC1           0\n",
       "LN_NO          0\n",
       "total_price    0\n",
       "Date           0\n",
       "Time           0\n",
       "dtype: int64"
      ]
     },
     "execution_count": 8,
     "metadata": {},
     "output_type": "execute_result"
    }
   ],
   "source": [
    "df.isnull().sum()"
   ]
  },
  {
   "cell_type": "markdown",
   "id": "87a5c557-7823-4fbe-ad05-9d4a5091cb04",
   "metadata": {},
   "source": [
    "### Check If Duplicate"
   ]
  },
  {
   "cell_type": "code",
   "execution_count": 10,
   "id": "a76c5894-e107-408d-b232-1b932bbcb83e",
   "metadata": {},
   "outputs": [
    {
     "data": {
      "text/plain": [
       "0"
      ]
     },
     "execution_count": 10,
     "metadata": {},
     "output_type": "execute_result"
    }
   ],
   "source": [
    "df.duplicated().sum()"
   ]
  },
  {
   "cell_type": "markdown",
   "id": "125e5652-8c17-4514-bcef-79cad5b0705c",
   "metadata": {},
   "source": [
    "### Check Columns Format"
   ]
  },
  {
   "cell_type": "code",
   "execution_count": 12,
   "id": "fce487fa-5683-4067-81e5-9f21f32107ff",
   "metadata": {},
   "outputs": [
    {
     "data": {
      "text/plain": [
       "ITM_CD           int64\n",
       "itm_nma         object\n",
       "PRC            float64\n",
       "QTY            float64\n",
       "TR_NO            int64\n",
       "USR             object\n",
       "SUM_CD         float64\n",
       "Crtd            object\n",
       "PRC1           float64\n",
       "LN_NO            int64\n",
       "total_price    float64\n",
       "Date            object\n",
       "Time            object\n",
       "dtype: object"
      ]
     },
     "execution_count": 12,
     "metadata": {},
     "output_type": "execute_result"
    }
   ],
   "source": [
    "df.dtypes"
   ]
  },
  {
   "cell_type": "code",
   "execution_count": 13,
   "id": "fd118dae-9043-48f4-8690-b7b0620e7431",
   "metadata": {},
   "outputs": [],
   "source": [
    "df['Crtd'] = df['Crtd'].astype('datetime64[ns]')\n",
    "df['Month'] = df['Crtd'].dt.month\n",
    "df['Year'] = df['Crtd'].dt.year"
   ]
  },
  {
   "cell_type": "code",
   "execution_count": 14,
   "id": "a510f8ef-ba5f-4c41-9e30-b747822ff9ce",
   "metadata": {},
   "outputs": [],
   "source": [
    "df.loc[df['Crtd'].dt.year == 2027, 'Crtd'] = df.loc[df['Crtd'].dt.year==2027,'Crtd'] - pd.DateOffset(years=3)"
   ]
  },
  {
   "cell_type": "markdown",
   "id": "4f72fecf-9e16-49f0-afd4-1c2885fcc198",
   "metadata": {},
   "source": [
    "### Bivariate / Multivariate Analysis"
   ]
  },
  {
   "cell_type": "code",
   "execution_count": 16,
   "id": "e75eb69d-3b02-49f3-986f-57acff36c462",
   "metadata": {},
   "outputs": [
    {
     "data": {
      "text/html": [
       "<div>\n",
       "<style scoped>\n",
       "    .dataframe tbody tr th:only-of-type {\n",
       "        vertical-align: middle;\n",
       "    }\n",
       "\n",
       "    .dataframe tbody tr th {\n",
       "        vertical-align: top;\n",
       "    }\n",
       "\n",
       "    .dataframe thead th {\n",
       "        text-align: right;\n",
       "    }\n",
       "</style>\n",
       "<table border=\"1\" class=\"dataframe\">\n",
       "  <thead>\n",
       "    <tr style=\"text-align: right;\">\n",
       "      <th></th>\n",
       "      <th>itm_nma</th>\n",
       "      <th>QTY</th>\n",
       "    </tr>\n",
       "  </thead>\n",
       "  <tbody>\n",
       "    <tr>\n",
       "      <th>136</th>\n",
       "      <td>سندوتش كفته بلدى صغير</td>\n",
       "      <td>65149.0</td>\n",
       "    </tr>\n",
       "    <tr>\n",
       "      <th>63</th>\n",
       "      <td>حواوشى لحم عالفحم</td>\n",
       "      <td>38947.0</td>\n",
       "    </tr>\n",
       "    <tr>\n",
       "      <th>96</th>\n",
       "      <td>سماش برجر سنجل</td>\n",
       "      <td>28718.0</td>\n",
       "    </tr>\n",
       "    <tr>\n",
       "      <th>137</th>\n",
       "      <td>سندوتش كفته بلدى كبير</td>\n",
       "      <td>18432.0</td>\n",
       "    </tr>\n",
       "    <tr>\n",
       "      <th>16</th>\n",
       "      <td>اضافه جبنه</td>\n",
       "      <td>16227.0</td>\n",
       "    </tr>\n",
       "    <tr>\n",
       "      <th>120</th>\n",
       "      <td>سندوتش شيش طاووق بلدى</td>\n",
       "      <td>15821.0</td>\n",
       "    </tr>\n",
       "    <tr>\n",
       "      <th>36</th>\n",
       "      <td>بطاطس سورى ع سورى</td>\n",
       "      <td>13860.0</td>\n",
       "    </tr>\n",
       "    <tr>\n",
       "      <th>62</th>\n",
       "      <td>حواوشى سجق عالفحم</td>\n",
       "      <td>10391.0</td>\n",
       "    </tr>\n",
       "    <tr>\n",
       "      <th>52</th>\n",
       "      <td>تشيكن رانش برجر</td>\n",
       "      <td>9807.0</td>\n",
       "    </tr>\n",
       "    <tr>\n",
       "      <th>115</th>\n",
       "      <td>سندوتش سجق مشوى بلدى</td>\n",
       "      <td>9705.0</td>\n",
       "    </tr>\n",
       "  </tbody>\n",
       "</table>\n",
       "</div>"
      ],
      "text/plain": [
       "                   itm_nma      QTY\n",
       "136  سندوتش كفته بلدى صغير  65149.0\n",
       "63       حواوشى لحم عالفحم  38947.0\n",
       "96          سماش برجر سنجل  28718.0\n",
       "137  سندوتش كفته بلدى كبير  18432.0\n",
       "16              اضافه جبنه  16227.0\n",
       "120  سندوتش شيش طاووق بلدى  15821.0\n",
       "36       بطاطس سورى ع سورى  13860.0\n",
       "62       حواوشى سجق عالفحم  10391.0\n",
       "52         تشيكن رانش برجر   9807.0\n",
       "115   سندوتش سجق مشوى بلدى   9705.0"
      ]
     },
     "execution_count": 16,
     "metadata": {},
     "output_type": "execute_result"
    }
   ],
   "source": [
    "# Top 10 Products In Sales\n",
    "df.groupby('itm_nma')['QTY'].sum().reset_index().sort_values('QTY', ascending=False).head(10)"
   ]
  },
  {
   "cell_type": "code",
   "execution_count": 17,
   "id": "638a9d6a-784c-4fce-b4a1-f2899c4a7b60",
   "metadata": {},
   "outputs": [],
   "source": [
    "# 1 Date"
   ]
  },
  {
   "cell_type": "code",
   "execution_count": 18,
   "id": "7153123c-71bc-4c4e-8b68-6c7fb7881173",
   "metadata": {},
   "outputs": [
    {
     "data": {
      "image/png": "[encoded data removed]",
      "text/plain": [
       "<Figure size 640x480 with 1 Axes>"
      ]
     },
     "metadata": {},
     "output_type": "display_data"
    }
   ],
   "source": [
    "sns.boxplot(df['Crtd']);"
   ]
  },
  {
   "cell_type": "code",
   "execution_count": 19,
   "id": "39ad3d0c-8e72-4222-ae03-b3448bab6758",
   "metadata": {},
   "outputs": [],
   "source": [
    "# 2- Quantity"
   ]
  },
  {
   "cell_type": "code",
   "execution_count": 20,
   "id": "413a5a4c-cea7-4109-8a29-0fad858053a0",
   "metadata": {},
   "outputs": [
    {
     "data": {
      "image/png": "[encoded data removed]",
      "text/plain": [
       "<Figure size 640x480 with 1 Axes>"
      ]
     },
     "metadata": {},
     "output_type": "display_data"
    }
   ],
   "source": [
    "sns.boxplot(df['QTY']);"
   ]
  },
  {
   "cell_type": "code",
   "execution_count": 21,
   "id": "3880d7db-8753-4528-a237-7a8c4db1d9aa",
   "metadata": {},
   "outputs": [],
   "source": [
    "# Outliers of QTY are necessary\n",
    "# Negative is for cancelled orderes\n",
    "# all the orders over 100 QTY are correct"
   ]
  },
  {
   "cell_type": "code",
   "execution_count": 22,
   "id": "c6c9f3f6-64d3-4176-8fd3-e92881effb50",
   "metadata": {},
   "outputs": [],
   "source": [
    "### Analyza monthly Sales"
   ]
  },
  {
   "cell_type": "code",
   "execution_count": 23,
   "id": "50e6dccb-511b-4cca-8f4e-5fdbf7e991c6",
   "metadata": {},
   "outputs": [],
   "source": [
    "df['Year_Month'] = df['Crtd'].dt.strftime('%Y-%m')"
   ]
  },
  {
   "cell_type": "code",
   "execution_count": 24,
   "id": "e4948329-3165-416d-8388-9b3d84f4e1e4",
   "metadata": {},
   "outputs": [
    {
     "data": {
      "image/png": "[encoded data removed]",
      "text/plain": [
       "<Figure size 640x480 with 1 Axes>"
      ]
     },
     "metadata": {},
     "output_type": "display_data"
    }
   ],
   "source": [
    "\n",
    "pd.DataFrame(df.groupby('Year_Month')['total_price'].sum()).plot()\n",
    "plt.xlabel('Date')\n",
    "plt.ylabel('Total Sales')\n",
    "plt.ylim(0,);"
   ]
  },
  {
   "cell_type": "code",
   "execution_count": 25,
   "id": "1344a5be-b365-45db-9f26-fabb43c9520d",
   "metadata": {},
   "outputs": [],
   "source": [
    "# Sales Over Hour\n",
    "df['Hour'] = df['Crtd'].dt.hour\n",
    "a = df.groupby('Hour')['total_price'].sum()\n",
    "total  = a / df['Date'].nunique()"
   ]
  },
  {
   "cell_type": "code",
   "execution_count": 26,
   "id": "baab624f-bd74-43ca-8c54-d7d7178a1b32",
   "metadata": {},
   "outputs": [
    {
     "data": {
      "text/plain": [
       "<Axes: xlabel='Hour'>"
      ]
     },
     "execution_count": 26,
     "metadata": {},
     "output_type": "execute_result"
    },
    {
     "data": {
      "image/png": "[encoded data removed]",
      "text/plain": [
       "<Figure size 640x480 with 1 Axes>"
      ]
     },
     "metadata": {},
     "output_type": "display_data"
    }
   ],
   "source": [
    "total.plot(kind='bar')"
   ]
  },
  {
   "cell_type": "code",
   "execution_count": 27,
   "id": "b37110a3-6a8e-4f22-9dd6-a14f2625a15c",
   "metadata": {},
   "outputs": [],
   "source": [
    "df['Day'] = df['Crtd'].dt.day_name()"
   ]
  },
  {
   "cell_type": "code",
   "execution_count": 28,
   "id": "f020d08c-8dd5-4276-a42a-890b09befc72",
   "metadata": {},
   "outputs": [
    {
     "data": {
      "text/plain": [
       "Day\n",
       "Friday       39673\n",
       "Thursday     35014\n",
       "Saturday     34549\n",
       "Monday       32933\n",
       "Sunday       32571\n",
       "Wednesday    31706\n",
       "Tuesday      31030\n",
       "Name: count, dtype: int64"
      ]
     },
     "execution_count": 28,
     "metadata": {},
     "output_type": "execute_result"
    }
   ],
   "source": [
    "df['Day'].value_counts()"
   ]
  },
  {
   "cell_type": "code",
   "execution_count": 29,
   "id": "cdb92650-052c-4c7e-836d-e28888b0cf72",
   "metadata": {},
   "outputs": [],
   "source": [
    "# Sales Over Day"
   ]
  },
  {
   "cell_type": "code",
   "execution_count": 30,
   "id": "fd0c99db-bc7a-4b03-ba15-2662e0259a6c",
   "metadata": {},
   "outputs": [],
   "source": [
    "daily_sales = df.groupby(['Date', 'Day'])['total_price'].sum().reset_index()"
   ]
  },
  {
   "cell_type": "code",
   "execution_count": 31,
   "id": "1cfbf30b-936e-47ea-aa2f-0bb878737dd6",
   "metadata": {},
   "outputs": [],
   "source": [
    "b = daily_sales['Day'].value_counts()\n",
    "top_days = daily_sales.groupby('Day')['total_price'].sum().reindex(['Saturday', 'Sunday', 'Monday', 'Tuesday', 'Wednesday', 'Thursday', 'Friday'])/b"
   ]
  },
  {
   "cell_type": "code",
   "execution_count": 32,
   "id": "6719fc82-2966-4f37-8de1-c7dd17ea0850",
   "metadata": {},
   "outputs": [
    {
     "data": {
      "image/png": "[encoded data removed]",
      "text/plain": [
       "<Figure size 640x480 with 1 Axes>"
      ]
     },
     "metadata": {},
     "output_type": "display_data"
    }
   ],
   "source": [
    "top_days.plot(kind='bar', rot = 45)\n",
    "plt.xlabel('Day')\n",
    "plt.ylabel('AVG Sales');"
   ]
  },
  {
   "cell_type": "code",
   "execution_count": 33,
   "id": "cf923097-142c-4476-9a0c-c55c55ef0eab",
   "metadata": {},
   "outputs": [],
   "source": [
    "df.drop(columns=['ITM_CD','SUM_CD','USR','LN_NO'],inplace=True)"
   ]
  },
  {
   "cell_type": "code",
   "execution_count": 34,
   "id": "80ee097c-f6d6-4a1e-ab8a-7222c3cb6639",
   "metadata": {},
   "outputs": [],
   "source": [
    "df.to_csv('Clean_sales_date.csv')"
   ]
  },
  {
   "cell_type": "code",
   "execution_count": null,
   "id": "595dc9df-45e3-4ba9-bb98-6c0701bc59db",
   "metadata": {},
   "outputs": [],
   "source": []
  }
 ],
 "metadata": {
  "kernelspec": {
   "display_name": "Python 3 (ipykernel)",
   "language": "python",
   "name": "python3"
  },
  "language_info": {
   "codemirror_mode": {
    "name": "ipython",
    "version": 3
   },
   "file_extension": ".py",
   "mimetype": "text/x-python",
   "name": "python",
   "nbconvert_exporter": "python",
   "pygments_lexer": "ipython3",
   "version": "3.12.7"
  }
 },
 "nbformat": 4,
 "nbformat_minor": 5
}
